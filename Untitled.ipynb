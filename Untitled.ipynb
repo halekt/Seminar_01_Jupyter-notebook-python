{
 "cells": [
  {
   "cell_type": "markdown",
   "id": "08a73eab",
   "metadata": {},
   "source": [
    "# Условие 2\n",
    "## На складе лежат разные фрукты в разном количестве.\n",
    "Нужно написать функцию, которая на вход принимает любое количество названий фруктов и их количество, а возвращает общее количество фруктов на складе"
   ]
  },
  {
   "cell_type": "code",
   "execution_count": 110,
   "id": "45888094",
   "metadata": {},
   "outputs": [
    {
     "name": "stdout",
     "output_type": "stream",
     "text": [
      "<class 'dict'>\n"
     ]
    },
    {
     "data": {
      "text/plain": [
       "'Total fruits: 35'"
      ]
     },
     "execution_count": 110,
     "metadata": {},
     "output_type": "execute_result"
    }
   ],
   "source": [
    "def fruits(**kwargs):\n",
    "    print(type(kwargs))\n",
    "    \n",
    "    total_fruits = sum(kwargs.values())\n",
    "    \n",
    "    return f'Total fruits: {total_fruits}'\n",
    "        \n",
    "my_fruits= {'banana': 5, 'mango' : 7, 'apple' : 8, 'apples' : 10, 'pears': 5}\n",
    "\n",
    "fruits(**my_fruits)"
   ]
  },
  {
   "cell_type": "markdown",
   "id": "f27fefe4",
   "metadata": {},
   "source": [
    "# Условие 3:\n",
    "Дан список с затратами на рекламу. Но в данных есть ошибки, некоторые затраты имеют отрицательную величину. Удалите такие значения из списка и посчитайте суммарные затраты\n",
    "[100, 125, -90, 345, 655, -1, 0, 200]\n",
    "Используйте list comprehensions"
   ]
  },
  {
   "cell_type": "markdown",
   "id": "adbb7258",
   "metadata": {},
   "source": [
    "### вариант 1"
   ]
  },
  {
   "cell_type": "code",
   "execution_count": 111,
   "id": "697682cd",
   "metadata": {},
   "outputs": [],
   "source": [
    "def expenses(data: list):\n",
    "    \n",
    "    new_data = []\n",
    "    \n",
    "    for i in data:\n",
    "        if i > 0:\n",
    "            new_data.append(i)\n",
    "            \n",
    "    print(new_data)\n",
    "    print(f'Total expenses: {sum(new_data)}')"
   ]
  },
  {
   "cell_type": "code",
   "execution_count": 112,
   "id": "57f25fca",
   "metadata": {},
   "outputs": [
    {
     "name": "stdout",
     "output_type": "stream",
     "text": [
      "[100, 125, 345, 655, 200]\n",
      "Total expenses: 1425\n"
     ]
    }
   ],
   "source": [
    "data = [100, 125, -90, 345, 655, -1, 0, 200]\n",
    "\n",
    "expenses(data)"
   ]
  },
  {
   "cell_type": "markdown",
   "id": "2b744a47",
   "metadata": {},
   "source": [
    "### вариант 2"
   ]
  },
  {
   "cell_type": "code",
   "execution_count": 135,
   "id": "4e5de74b",
   "metadata": {},
   "outputs": [],
   "source": [
    "def expenses(data: list):\n",
    "    \n",
    "    new_data =[i for i in data if i >0]\n",
    "            \n",
    "    print(new_data)\n",
    "    print(f'Total expenses: {sum(new_data)}')"
   ]
  },
  {
   "cell_type": "code",
   "execution_count": 136,
   "id": "5ac1f9b3",
   "metadata": {},
   "outputs": [
    {
     "name": "stdout",
     "output_type": "stream",
     "text": [
      "[100, 125, 345, 655, 200]\n",
      "Total expenses: 1425\n"
     ]
    }
   ],
   "source": [
    "data = [100, 125, -90, 345, 655, -1, 0, 200]\n",
    "\n",
    "expenses(data)"
   ]
  },
  {
   "cell_type": "markdown",
   "id": "1edc6b88",
   "metadata": {},
   "source": [
    "# Условие 4.1:\n",
    "\n",
    "## Даны два списка.\n",
    "\n",
    "Дата покупки\n",
    "['2021-09-14', '2021-12-15', '2021-09-08', '2021-12-05', '2021-10-09', '2021-09-30', '2021-12-22', '2021-11-29', '2021-12-24', '2021-11-26', '2021-10-27', '2021-12-18', '2021-11-09', '2021-11-23', '2021-09-27', '2021-10-02', '2021-12-27', '2021-09-20', '2021-12-13', '2021-11-01', '2021-11-09', '2021-12-06', '2021-12-08', '2021-10-09', '2021-10-31', '2021-09-30', '2021-11-09', '2021-12-13', '2021-10-26', '2021-12-09']\n",
    "\n",
    "Суммы покупок по датам\n",
    "[1270, 8413, 9028, 3703, 5739, 4095, 295, 4944, 5723, 3701, 4471, 651, 7037, 4274, 6275, 4988, 6930, 2971, 6592, 2004, 2822, 519, 3406, 2732, 5015, 2008, 316, 6333, 5700, 2887]\n",
    "\n",
    "## 4.1 Найдите, какая выручка у компании в ноябре\n",
    "Используйте list comprehensions\n",
    "\n",
    "## 4.2 Найдите выручку компании в зависимости от месяца\n",
    "Для этого напишите функцию, которая на вход принимает список с датами и список с выручкой, а на выходе словарь, где ключи - это месяцы, а значения - это выручка.\n",
    "Используйте аннотирование типов."
   ]
  },
  {
   "cell_type": "markdown",
   "id": "f82dc4d5",
   "metadata": {},
   "source": [
    "### Решение 4.1"
   ]
  },
  {
   "cell_type": "markdown",
   "id": "959795af",
   "metadata": {},
   "source": [
    "### вариант 1"
   ]
  },
  {
   "cell_type": "code",
   "execution_count": 187,
   "id": "70f6fb30",
   "metadata": {},
   "outputs": [],
   "source": [
    "date = ['2021-09-14', '2021-12-15', '2021-09-08', '2021-12-05', '2021-10-09', \n",
    "        '2021-09-30', '2021-12-22', '2021-11-29', '2021-12-24', '2021-11-26', \n",
    "        '2021-10-27', '2021-12-18', '2021-11-09', '2021-11-23', '2021-09-27', \n",
    "        '2021-10-02', '2021-12-27', '2021-09-20', '2021-12-13', '2021-11-01', \n",
    "        '2021-11-09', '2021-12-06', '2021-12-08', '2021-10-09', '2021-10-31', \n",
    "        '2021-09-30', '2021-11-09', '2021-12-13', '2021-10-26', '2021-12-09']\n",
    "cost = [1270, 8413, 9028, 3703, 5739, 4095, 295, 4944, 5723, 3701, \n",
    "        4471, 651, 7037, 4274, 6275, 4988, 6930, 2971, 6592, 2004, \n",
    "        2822, 519, 3406, 2732, 5015, 2008, 316, 6333, 5700, 2887]"
   ]
  },
  {
   "cell_type": "code",
   "execution_count": 188,
   "id": "75760a49",
   "metadata": {},
   "outputs": [],
   "source": [
    "def november(data1: list, data2: list) -> list:\n",
    "    \n",
    "    new_data = []\n",
    "    \n",
    "    for i in range(len(data1)):\n",
    "       if '2021-11' in data1[i]:\n",
    "            new_data.append(data2[i])\n",
    "            \n",
    "    return new_data"
   ]
  },
  {
   "cell_type": "code",
   "execution_count": 190,
   "id": "890ae1a8",
   "metadata": {},
   "outputs": [
    {
     "name": "stdout",
     "output_type": "stream",
     "text": [
      "[4944, 3701, 7037, 4274, 2004, 2822, 316]\n",
      "Sales: 25098\n"
     ]
    }
   ],
   "source": [
    "print(november(date, cost))\n",
    "print(f'Sales: {sum(november(date, cost))}')"
   ]
  },
  {
   "cell_type": "markdown",
   "id": "28029511",
   "metadata": {},
   "source": [
    "### вариант 2"
   ]
  },
  {
   "cell_type": "code",
   "execution_count": 208,
   "id": "d66732de",
   "metadata": {},
   "outputs": [
    {
     "name": "stdout",
     "output_type": "stream",
     "text": [
      "[4944, 3701, 7037, 4274, 2004, 2822, 316]\n",
      "Sales november: 25098\n"
     ]
    }
   ],
   "source": [
    "print([cost[i] for i in range(0, len(date)) if \"2021-11\" in date[i]])\n",
    "print(f'Sales november: {sum([cost[i] for i in range(len(date)) if \"2021-11\" in date[i]])}')"
   ]
  },
  {
   "cell_type": "markdown",
   "id": "4b5fee83",
   "metadata": {},
   "source": [
    "### Решение 4.2"
   ]
  },
  {
   "cell_type": "markdown",
   "id": "2ed82938",
   "metadata": {},
   "source": [
    "### вариант 1"
   ]
  },
  {
   "cell_type": "code",
   "execution_count": 222,
   "id": "d22023e7",
   "metadata": {},
   "outputs": [
    {
     "name": "stdout",
     "output_type": "stream",
     "text": [
      "{'09': 25647, '12': 45452, '10': 28645, '11': 25098}\n"
     ]
    }
   ],
   "source": [
    "def sales (data1: list, data2: list) -> dict:\n",
    "    \n",
    "    sales = {}\n",
    "    \n",
    "    for i in range(len(data1)):\n",
    "        \n",
    "        if date[i].split('-')[1] in sales.keys():\n",
    "            sales[date[i].split('-')[1]] += cost[i]\n",
    "        else:\n",
    "            sales[date[i].split('-')[1]] = cost[i]\n",
    "            \n",
    "    return sales\n",
    "\n",
    "print(sales(date, cost))"
   ]
  },
  {
   "cell_type": "markdown",
   "id": "7f8237ad",
   "metadata": {},
   "source": [
    "### вариант 2"
   ]
  },
  {
   "cell_type": "code",
   "execution_count": 207,
   "id": "dbe42541",
   "metadata": {},
   "outputs": [
    {
     "name": "stdout",
     "output_type": "stream",
     "text": [
      "0.0\n",
      "                0\n",
      "2021-09-30  25647\n",
      "2021-10-31  28645\n",
      "2021-11-30  25098\n",
      "2021-12-31  45452\n"
     ]
    }
   ],
   "source": [
    "dt = ['2021-09-14', '2021-12-15', '2021-09-08', \n",
    "      '2021-12-05', '2021-10-09', '2021-09-30', \n",
    "      '2021-12-22', '2021-11-29', '2021-12-24', \n",
    "      '2021-11-26', '2021-10-27', '2021-12-18', \n",
    "      '2021-11-09', '2021-11-23', '2021-09-27', \n",
    "      '2021-10-02', '2021-12-27', '2021-09-20', \n",
    "      '2021-12-13', '2021-11-01', '2021-11-09', \n",
    "      '2021-12-06', '2021-12-08', '2021-10-09', \n",
    "      '2021-10-31', '2021-09-30', '2021-11-09', \n",
    "      '2021-12-13', '2021-10-26', '2021-12-09']\n",
    "sm = [1270, 8413, 9028, 3703, 5739, 4095, 295, \n",
    "      4944, 5723, 3701, 4471, 651, 7037, 4274, \n",
    "      6275, 4988, 6930, 2971, 6592, 2004, 2822, \n",
    "      519, 3406, 2732, 5015, 2008, 316, 6333, 5700, 2887]\n",
    " \n",
    "import pandas as pd\n",
    " \n",
    "df = pd.DataFrame(sm, index=pd.to_datetime(dt))\n",
    "print(df[df.index.month==0].sum()[0])\n",
    " \n",
    "print(df.resample('M').sum())"
   ]
  }
 ],
 "metadata": {
  "kernelspec": {
   "display_name": "Python 3 (ipykernel)",
   "language": "python",
   "name": "python3"
  },
  "language_info": {
   "codemirror_mode": {
    "name": "ipython",
    "version": 3
   },
   "file_extension": ".py",
   "mimetype": "text/x-python",
   "name": "python",
   "nbconvert_exporter": "python",
   "pygments_lexer": "ipython3",
   "version": "3.11.1"
  }
 },
 "nbformat": 4,
 "nbformat_minor": 5
}
